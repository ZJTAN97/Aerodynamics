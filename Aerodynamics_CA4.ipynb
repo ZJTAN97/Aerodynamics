{
 "cells": [
  {
   "cell_type": "code",
   "execution_count": 1,
   "metadata": {},
   "outputs": [],
   "source": [
    "import pandas as pd\n",
    "import numpy as np\n",
    "import matplotlib.pyplot as plt\n",
    "import sympy as sp\n",
    "from sympy import symbols, sin, atan, cos, tan, Eq, solve, nsolve, linsolve, nonlinsolve\n",
    "import math"
   ]
  },
  {
   "cell_type": "markdown",
   "metadata": {},
   "source": [
    "# Part a"
   ]
  },
  {
   "cell_type": "markdown",
   "metadata": {},
   "source": [
    "## Finding Minimum Mach Number and Maximum Beta\n",
    "\n",
    "- Assuming the M1 has to minimally 1 \n",
    "- This is to ensure the Normal Shock can still occur downstream\n",
    "- Done by equating the oblique shock equation with the self derived equation"
   ]
  },
  {
   "cell_type": "code",
   "execution_count": 2,
   "metadata": {},
   "outputs": [],
   "source": [
    "M_inf, M1, M2, beta = symbols(['M0', 'M1', 'M2', 'B'])\n",
    "theta = np.radians(10)"
   ]
  },
  {
   "cell_type": "code",
   "execution_count": 3,
   "metadata": {},
   "outputs": [
    {
     "data": {
      "text/latex": [
       "$\\displaystyle \\frac{M_{0}^{2} \\sin^{2}{\\left(B \\right)} + 5}{7 M_{0}^{2} \\sin^{2}{\\left(B \\right)} - 1} = \\sin^{2}{\\left(B - 0.174532925199433 \\right)}$"
      ],
      "text/plain": [
       "Eq((M0**2*sin(B)**2 + 5)/(7*M0**2*sin(B)**2 - 1), sin(B - 0.174532925199433)**2)"
      ]
     },
     "execution_count": 3,
     "metadata": {},
     "output_type": "execute_result"
    }
   ],
   "source": [
    "# Equation 1\n",
    "top = (5 + ((M_inf)**2) * (sin(beta)**2))\n",
    "bottom = 7 * (M_inf**2) * (sin(beta)**2) -1 \n",
    "LHS = top / bottom\n",
    "RHS = sin(beta-theta)**2\n",
    "first = Eq(LHS, RHS)\n",
    "first"
   ]
  },
  {
   "cell_type": "code",
   "execution_count": 4,
   "metadata": {},
   "outputs": [
    {
     "data": {
      "text/latex": [
       "$\\displaystyle 0.176326980708465 = \\frac{2 \\left(M_{0}^{2} \\sin^{2}{\\left(B \\right)} - 1\\right)}{\\left(M_{0}^{2} \\left(\\cos{\\left(2 B \\right)} + 1.4\\right) + 2\\right) \\tan{\\left(B \\right)}}$"
      ],
      "text/plain": [
       "Eq(0.176326980708465, 2*(M0**2*sin(B)**2 - 1)/((M0**2*(cos(2*B) + 1.4) + 2)*tan(B)))"
      ]
     },
     "execution_count": 4,
     "metadata": {},
     "output_type": "execute_result"
    }
   ],
   "source": [
    "# Equation 2\n",
    "top2 = ((M_inf**2) * (sin(beta)**2)) - 1\n",
    "bottom2 = (M_inf**2) * (1.4 + cos(2*beta)) + 2\n",
    "side = 2 / tan(beta)\n",
    "RHS2 = side * (top2/bottom2)\n",
    "second = Eq(tan(theta), RHS2)\n",
    "second"
   ]
  },
  {
   "cell_type": "code",
   "execution_count": 5,
   "metadata": {},
   "outputs": [
    {
     "name": "stdout",
     "output_type": "stream",
     "text": [
      "The maximum Beta angle is: 62.871347895208345\n",
      "The minimum Mach Number is:  1.43616581024729\n"
     ]
    }
   ],
   "source": [
    "sol = nsolve([first, second],[beta, M_inf], [-2,2])\n",
    "\n",
    "print('The maximum Beta angle is:', (180 + np.degrees(float(sol[0]))))\n",
    "print('The minimum Mach Number is: ', sol[1])"
   ]
  },
  {
   "cell_type": "markdown",
   "metadata": {},
   "source": [
    "## Solving for Maximum Mach Number\n",
    "- Beta(Minimum) gives maximum Mach Number"
   ]
  },
  {
   "cell_type": "code",
   "execution_count": 6,
   "metadata": {},
   "outputs": [
    {
     "name": "stdout",
     "output_type": "stream",
     "text": [
      "Maximum Mach Number is: 5.47299204741344\n",
      "\n",
      "\n"
     ]
    },
    {
     "data": {
      "text/latex": [
       "$\\displaystyle 0.176326980708465 = \\frac{5.99998213587762 \\left(0.100000535925746 M_{0}^{2} - 1\\right)}{2.19999892814851 M_{0}^{2} + 2}$"
      ],
      "text/plain": [
       "Eq(0.176326980708465, 5.99998213587762*(0.100000535925746*M0**2 - 1)/(2.19999892814851*M0**2 + 2))"
      ]
     },
     "execution_count": 6,
     "metadata": {},
     "output_type": "execute_result"
    }
   ],
   "source": [
    "b = np.radians(18.435) # Beta(minimum) gives maximum mach number\n",
    "\n",
    "top2 = ((M_inf**2) * (sin(b)**2)) - 1\n",
    "bottom2 = (M_inf**2) * (1.4 + cos(2*b)) + 2\n",
    "side = 2 / tan(b)\n",
    "RHS2 = side * (top2/bottom2)\n",
    "#eqn_2 = tan(10) - RHS2\n",
    "\n",
    "second = Eq(tan(theta), RHS2)\n",
    "second\n",
    "max_mach = solve(second)\n",
    "\n",
    "print('Maximum Mach Number is:', max_mach[1])\n",
    "print('\\n')\n",
    "second"
   ]
  },
  {
   "cell_type": "markdown",
   "metadata": {},
   "source": [
    "## For Mach number 2 & 3 : Find the Beta --> to Sub in the beta and get the Length"
   ]
  },
  {
   "cell_type": "code",
   "execution_count": 7,
   "metadata": {},
   "outputs": [
    {
     "name": "stdout",
     "output_type": "stream",
     "text": [
      "Corresponding Beta Angle is (Solving equation below): 39.313931844818875\n",
      "\n",
      "\n"
     ]
    },
    {
     "data": {
      "text/latex": [
       "$\\displaystyle 0.176326980708465 = \\frac{2 \\left(4 \\sin^{2}{\\left(B \\right)} - 1\\right)}{\\left(4 \\cos{\\left(2 B \\right)} + 7.6\\right) \\tan{\\left(B \\right)}}$"
      ],
      "text/plain": [
       "Eq(0.176326980708465, 2*(4*sin(B)**2 - 1)/((4*cos(2*B) + 7.6)*tan(B)))"
      ]
     },
     "execution_count": 7,
     "metadata": {},
     "output_type": "execute_result"
    }
   ],
   "source": [
    "M2 = 2\n",
    "\n",
    "top2 = ((M2**2) * (sin(beta)**2)) - 1\n",
    "bottom2 = (M2**2) * (1.4 + cos(2*beta)) + 2\n",
    "side = 2 / tan(beta)\n",
    "RHS2 = side * (top2/bottom2)\n",
    "\n",
    "second = Eq(tan(theta), RHS2)\n",
    "beta_2 = np.degrees(float(nsolve(second, (-1,1))))\n",
    "\n",
    "print('Corresponding Beta Angle is (Solving equation below):', beta_2)\n",
    "print('\\n')\n",
    "second"
   ]
  },
  {
   "cell_type": "code",
   "execution_count": 8,
   "metadata": {},
   "outputs": [
    {
     "name": "stdout",
     "output_type": "stream",
     "text": [
      "Corresponding Beta Angle is (Solving equation below): 27.382690621308473\n",
      "\n",
      "\n"
     ]
    },
    {
     "data": {
      "text/latex": [
       "$\\displaystyle 0.176326980708465 = \\frac{2 \\left(9 \\sin^{2}{\\left(B \\right)} - 1\\right)}{\\left(9 \\cos{\\left(2 B \\right)} + 14.6\\right) \\tan{\\left(B \\right)}}$"
      ],
      "text/plain": [
       "Eq(0.176326980708465, 2*(9*sin(B)**2 - 1)/((9*cos(2*B) + 14.6)*tan(B)))"
      ]
     },
     "execution_count": 8,
     "metadata": {},
     "output_type": "execute_result"
    }
   ],
   "source": [
    "M3 = 3\n",
    "\n",
    "top2 = ((M3**2) * (sin(beta)**2)) - 1\n",
    "bottom2 = (M3**2) * (1.4 + cos(2*beta)) + 2\n",
    "side = 2 / tan(beta)\n",
    "RHS2 = side * (top2/bottom2)\n",
    "\n",
    "second = Eq(tan(theta), RHS2)\n",
    "beta_3 = np.degrees(float(nsolve(second, (-1,1))))\n",
    "\n",
    "print('Corresponding Beta Angle is (Solving equation below):', beta_3)\n",
    "print('\\n')\n",
    "second"
   ]
  },
  {
   "cell_type": "markdown",
   "metadata": {},
   "source": [
    "## For Mach number 2 & 3 : Find Overall Pressure Ratio\n",
    "\n",
    "Algorithm as followed:\n",
    "  \n",
    "1. Get Mach Infinity Normal\n",
    "2. Get Mach 1 Normal\n",
    "3. Get Mach 1\n",
    "4. Get Pressure Ratio 1 / Infinity\n",
    "5. Get Pressure Ratio Total 1 / Total Infinity\n",
    "6. Get M2\n",
    "7. Get Pressure Ratio 2 / 1\n",
    "8. Get Pressure Ratio Total 2 / Total 1\n",
    "9. Get Pressure ratio Total 2 / Total Infinity"
   ]
  },
  {
   "cell_type": "code",
   "execution_count": 9,
   "metadata": {},
   "outputs": [],
   "source": [
    "def get_pressure_ratio(beta, Minf):\n",
    "\n",
    "    # Get Mach Infinity Normal\n",
    "    Minf_n = Minf * sin(np.radians(beta))\n",
    "\n",
    "    # Get Mach 1 Normal\n",
    "    M1_n = ((5 + (Minf_n**2)) / (7*(Minf_n**2)-1))**0.5  \n",
    "\n",
    "    # Get Mach 1\n",
    "    M1 = M1_n / sin(np.radians(beta-10)) \n",
    "\n",
    "    # Get Pressure Ratio 1 / Infinity\n",
    "    P1inf = ((7 * (Minf_n**2))-1) / 6\n",
    "\n",
    "    # Get Pressure Ratio Total 1 / Total Infinity\n",
    "    P010inf = P1inf * ((2 + (1.4-1)*(M1**2)) / (2 + (1.4-1)*(Minf**2)))**3.5\n",
    "\n",
    "    # Get M2\n",
    "    M2 = ((5 + M1**2) / ((7*(M1**2)) - 1))**0.5\n",
    "\n",
    "    # Get Pressure Ratio 2 / 1\n",
    "    P21 = ((7 * (M1**2))-1) / 6\n",
    "\n",
    "    # Get Pressure Ratio Total 2 / Total 1\n",
    "    P0201 = P21 * ((2 + (1.4-1)*(M2**2)) / (2 + (1.4-1)*(M1**2)))**3.5\n",
    "\n",
    "\n",
    "    # Get Pressure ratio Total 2 / Total Infinity\n",
    "    final = P0201 * P010inf * (((2 + (1.4-1)*(Minf**2)) / (2 + (1.4-1)*(M2**2)))**3.5)\n",
    "\n",
    "    return final"
   ]
  },
  {
   "cell_type": "code",
   "execution_count": 10,
   "metadata": {},
   "outputs": [
    {
     "name": "stdout",
     "output_type": "stream",
     "text": [
      "The pressure ratio for Mach 3 is : 14.698104308638323\n",
      "The pressure ratio for Mach 2 is : 5.073997311585265\n"
     ]
    }
   ],
   "source": [
    "print('The pressure ratio for Mach 3 is :', float(get_pressure_ratio(beta_3, 3)))\n",
    "print('The pressure ratio for Mach 2 is :', float(get_pressure_ratio(beta_2, 2)))"
   ]
  },
  {
   "cell_type": "markdown",
   "metadata": {},
   "source": [
    "__________________________________________________________________________________________________________"
   ]
  },
  {
   "cell_type": "markdown",
   "metadata": {},
   "source": [
    "# Part b\n",
    "\n",
    "**Procedure as followed**\n",
    "1. Getting a range of values between Mach 2 to Max Mach (5.472)\n",
    "2. From the Mach Numbers, get their respective Beta Angles (using oblique shock equations)\n",
    "3. Upon getting Beta Angles, sub in to part a) function to get pressure ratios\n",
    "4. Plot Graph"
   ]
  },
  {
   "cell_type": "code",
   "execution_count": 11,
   "metadata": {},
   "outputs": [],
   "source": [
    "M_inf, M1, M2, beta = symbols(['M0', 'M1', 'M2', 'B'])\n",
    "theta = np.radians(10)\n",
    "\n",
    "mach = np.linspace(2, 5.473, 50)"
   ]
  },
  {
   "cell_type": "code",
   "execution_count": 12,
   "metadata": {},
   "outputs": [],
   "source": [
    "# Equation 2\n",
    "betas = []\n",
    "for m in mach:\n",
    "    # Equation\n",
    "    top2 = ((m**2) * (sin(beta)**2)) - 1\n",
    "    bottom2 = (m**2) * (1.4 + cos(2*beta)) + 2\n",
    "    side = 2 / tan(beta)\n",
    "    RHS2 = side * (top2/bottom2)\n",
    "    second = Eq(tan(theta), RHS2)\n",
    "    # To solve\n",
    "    b = np.degrees(float(nsolve(second, (-1,1))))\n",
    "    # appending to the list\n",
    "    betas.append(b)"
   ]
  },
  {
   "cell_type": "code",
   "execution_count": 13,
   "metadata": {},
   "outputs": [],
   "source": [
    "pressure_ratios = []\n",
    "\n",
    "for b, m in zip(betas, mach):\n",
    "    x = get_pressure_ratio(b, m)\n",
    "    pressure_ratios.append(x)"
   ]
  },
  {
   "cell_type": "code",
   "execution_count": 15,
   "metadata": {},
   "outputs": [
    {
     "data": {
      "text/plain": [
       "[39.313931844818875,\n",
       " 37.95449492994711,\n",
       " 36.719730760950064,\n",
       " 35.59154219193148,\n",
       " 34.555531546974514,\n",
       " 33.60002420990424,\n",
       " 32.715404218504766,\n",
       " 31.893646658063037,\n",
       " 31.127979202942825,\n",
       " 30.412631273608355,\n",
       " 29.742644335243796,\n",
       " 29.113725911608125,\n",
       " 28.5221355198768,\n",
       " 27.964594348014792,\n",
       " 27.438212881168674,\n",
       " 26.940432294688385,\n",
       " 26.468976543146923,\n",
       " 26.021812856627186,\n",
       " 25.597118914949153,\n",
       " 25.19325537697017,\n",
       " 24.80874274160004,\n",
       " 24.44224174071741,\n",
       " 24.09253663298779,\n",
       " 23.758520896446296,\n",
       " 23.439184917054593,\n",
       " 23.13360534773743,\n",
       " 22.840935873057134,\n",
       " 22.560399162654477,\n",
       " 22.29127983480414,\n",
       " 22.032918282093977,\n",
       " 21.784705235992668,\n",
       " 21.546076967179193,\n",
       " 21.316511034934344,\n",
       " 21.09552251238509,\n",
       " 20.882660625528665,\n",
       " 20.677505753198282,\n",
       " 20.479666742826858,\n",
       " 20.288778503302318,\n",
       " 20.104499841616096,\n",
       " 19.92651151456709,\n",
       " 19.754514470643574,\n",
       " 19.588228260484442,\n",
       " 19.427389597115646,\n",
       " 19.27175104954675,\n",
       " 19.121079855361646,\n",
       " 18.97515683969947,\n",
       " 18.83377542954228,\n",
       " 18.69674075354015,\n",
       " 18.563868818744776,\n",
       " 18.43498575661323]"
      ]
     },
     "execution_count": 15,
     "metadata": {},
     "output_type": "execute_result"
    }
   ],
   "source": [
    "betas"
   ]
  },
  {
   "cell_type": "code",
   "execution_count": 17,
   "metadata": {},
   "outputs": [
    {
     "data": {
      "text/plain": [
       "array([39.31393184, 37.95449493, 36.71973076, 35.59154219, 34.55553155,\n",
       "       33.60002421, 32.71540422, 31.89364666, 31.1279792 , 30.41263127,\n",
       "       29.74264434, 29.11372591, 28.52213552, 27.96459435, 27.43821288,\n",
       "       26.94043229, 26.46897654, 26.02181286, 25.59711891, 25.19325538,\n",
       "       24.80874274, 24.44224174, 24.09253663, 23.7585209 , 23.43918492,\n",
       "       23.13360535, 22.84093587, 22.56039916, 22.29127983, 22.03291828,\n",
       "       21.78470524, 21.54607697, 21.31651103, 21.09552251, 20.88266063,\n",
       "       20.67750575, 20.47966674, 20.2887785 , 20.10449984, 19.92651151,\n",
       "       19.75451447, 19.58822826, 19.4273896 , 19.27175105, 19.12107986,\n",
       "       18.97515684, 18.83377543, 18.69674075, 18.56386882, 18.43498576])"
      ]
     },
     "execution_count": 17,
     "metadata": {},
     "output_type": "execute_result"
    }
   ],
   "source": [
    "betas = np.array(betas)\n",
    "betas"
   ]
  },
  {
   "cell_type": "code",
   "execution_count": 18,
   "metadata": {},
   "outputs": [
    {
     "data": {
      "text/plain": [
       "array([0.12211553, 0.12820391, 0.13406392, 0.13972209, 0.14519922,\n",
       "       0.15051196, 0.15567393, 0.16069643, 0.16558902, 0.17035981,\n",
       "       0.17501586, 0.1795633 , 0.18400753, 0.18835334, 0.19260505,\n",
       "       0.1967665 , 0.20084123, 0.20483243, 0.20874304, 0.21257577,\n",
       "       0.21633313, 0.22001746, 0.22363095, 0.22717563, 0.23065345,\n",
       "       0.23406621, 0.23741563, 0.24070335, 0.24393093, 0.24709985,\n",
       "       0.25021152, 0.25326731, 0.25626851, 0.25921637, 0.2621121 ,\n",
       "       0.26495687, 0.26775178, 0.27049793, 0.27319636, 0.27584808,\n",
       "       0.27845408, 0.28101531, 0.2835327 , 0.28600715, 0.28843952,\n",
       "       0.29083068, 0.29318144, 0.29549262, 0.297765  , 0.29999936])"
      ]
     },
     "execution_count": 18,
     "metadata": {},
     "output_type": "execute_result"
    }
   ],
   "source": [
    "length = 0.1 / np.tan(np.radians(betas))\n",
    "length "
   ]
  },
  {
   "cell_type": "code",
   "execution_count": 21,
   "metadata": {},
   "outputs": [
    {
     "data": {
      "image/png": "[encoded data removed]",
      "text/plain": [
       "<Figure size 576x432 with 1 Axes>"
      ]
     },
     "metadata": {
      "needs_background": "light"
     },
     "output_type": "display_data"
    }
   ],
   "source": [
    "plt.figure(figsize=(8,6))\n",
    "plt.plot(mach, length, color='red')\n",
    "plt.grid(True)\n",
    "plt.xlabel('Mach Number', weight='bold')\n",
    "plt.ylabel('Length', weight='bold')\n",
    "plt.show()"
   ]
  },
  {
   "cell_type": "code",
   "execution_count": 32,
   "metadata": {},
   "outputs": [
    {
     "data": {
      "image/png": "[encoded data removed]",
      "text/plain": [
       "<Figure size 576x432 with 1 Axes>"
      ]
     },
     "metadata": {
      "needs_background": "light"
     },
     "output_type": "display_data"
    }
   ],
   "source": [
    "plt.figure(figsize=(8,6))\n",
    "plt.plot(mach,pressure_ratios)\n",
    "plt.grid(True)\n",
    "plt.xlabel('Mach Number', weight='bold')\n",
    "plt.ylabel('Pressure Ratio', weight='bold')\n",
    "plt.show()"
   ]
  },
  {
   "cell_type": "code",
   "execution_count": null,
   "metadata": {},
   "outputs": [],
   "source": []
  }
 ],
 "metadata": {
  "kernelspec": {
   "display_name": "Python 3",
   "language": "python",
   "name": "python3"
  },
  "language_info": {
   "codemirror_mode": {
    "name": "ipython",
    "version": 3
   },
   "file_extension": ".py",
   "mimetype": "text/x-python",
   "name": "python",
   "nbconvert_exporter": "python",
   "pygments_lexer": "ipython3",
   "version": "3.7.8"
  }
 },
 "nbformat": 4,
 "nbformat_minor": 2
}
